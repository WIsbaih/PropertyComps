{
 "cells": [
  {
   "cell_type": "code",
   "execution_count": null,
   "id": "32dc3ef0-49e1-4ba2-a275-eaa902dcb651",
   "metadata": {},
   "outputs": [
    {
     "name": "stdout",
     "output_type": "stream",
     "text": [
      "✅ Training complete. Clustered data:\n",
      " id  price  area  bedrooms  bathrooms  pool           title  balconies  cluster\n",
      "  1 100000  1000         2          1     0 Beautiful House        0.0        1\n",
      "  3 100000  1000         2          1     0                        0.0        0\n",
      "  5 100000  1000         2          1     0                        0.0        0\n",
      "  2 100000  1000         2          1     0                        0.0        0\n",
      "  4 100000  1000         2          1     0                        0.0        0\n",
      "  6 100000  1000         2          1     0                        1.0        0\n",
      "  7 100000  1000         2          1     0                        2.0        0\n",
      "  8 100000  1000         2          1     0                        0.0        0\n"
     ]
    },
    {
     "name": "stderr",
     "output_type": "stream",
     "text": [
      "c:\\GIT\\best-property\\.venv\\Lib\\site-packages\\sklearn\\base.py:1389: ConvergenceWarning: Number of distinct clusters (2) found smaller than n_clusters (5). Possibly due to duplicate points in X.\n",
      "  return fit_method(estimator, *args, **kwargs)\n"
     ]
    }
   ],
   "source": [
    "import pandas as pd\n",
    "from sklearn.feature_extraction.text import TfidfVectorizer\n",
    "from sklearn.cluster import KMeans\n",
    "import joblib\n",
    "\n",
    "# Load the data from JSON file\n",
    "df = pd.read_json(\"../data/properties_simple.json\")\n",
    "\n",
    "# Fill missing values dynamically\n",
    "for column in df.columns:\n",
    "    if df[column].dtype == \"object\":\n",
    "        df[column] = df[column].fillna(\"\")\n",
    "    elif pd.api.types.is_numeric_dtype(df[column]):\n",
    "        df[column] = df[column].fillna(0)\n",
    "    else:\n",
    "        df[column] = df[column].fillna(\"unknown\")\n",
    "\n",
    "# Try to select a suitable text column\n",
    "text_columns = df.select_dtypes(include=[\"object\", \"string\"]).columns\n",
    "text_column = None\n",
    "\n",
    "if \"description\" in df.columns:\n",
    "    text_column = \"description\"\n",
    "    \n",
    "elif len(text_columns) > 0:\n",
    "    text_column = text_columns[0]\n",
    "else:\n",
    "    # Fallback: combine all columns into one string column\n",
    "    print(\"⚠️ No text column found. Falling back to using all columns as text.\")\n",
    "    df[\"combined_text\"] = df.astype(str).agg(\" \".join, axis=1)\n",
    "    text_column = \"combined_text\"\n",
    "\n",
    "# Vectorize the selected text column\n",
    "vectorizer = TfidfVectorizer(stop_words=\"english\", max_features=100)\n",
    "X = vectorizer.fit_transform(df[text_column])\n",
    "\n",
    "# Cluster the properties\n",
    "kmeans = KMeans(n_clusters=5, random_state=42, n_init='auto')\n",
    "kmeans.fit(X)\n",
    "\n",
    "# Add cluster labels to DataFrame\n",
    "df[\"cluster\"] = kmeans.labels_\n",
    "\n",
    "# Save models\n",
    "joblib.dump(vectorizer, \"../models/vectorizer.joblib\")\n",
    "joblib.dump(kmeans, \"../models/cluster_model.joblib\")\n",
    "\n",
    "print(\"✅ Training complete. Clustered data:\")\n",
    "print(df.to_string(index=False))\n",
    "\n"
   ]
  },
  {
   "cell_type": "code",
   "execution_count": null,
   "id": "0950132f",
   "metadata": {},
   "outputs": [],
   "source": []
  }
 ],
 "metadata": {
  "kernelspec": {
   "display_name": ".venv",
   "language": "python",
   "name": "python3"
  },
  "language_info": {
   "codemirror_mode": {
    "name": "ipython",
    "version": 3
   },
   "file_extension": ".py",
   "mimetype": "text/x-python",
   "name": "python",
   "nbconvert_exporter": "python",
   "pygments_lexer": "ipython3",
   "version": "3.13.3"
  }
 },
 "nbformat": 4,
 "nbformat_minor": 5
}
